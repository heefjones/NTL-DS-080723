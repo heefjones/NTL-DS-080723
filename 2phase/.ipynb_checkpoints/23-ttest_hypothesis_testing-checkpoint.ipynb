{
 "cells": [
  {
   "cell_type": "markdown",
   "metadata": {
    "toc": true
   },
   "source": [
    "<h1>Table of Contents<span class=\"tocSkip\"></span></h1>\n",
    "<div class=\"toc\"><ul class=\"toc-item\"><li><span><a href=\"#Objectives\" data-toc-modified-id=\"Objectives-1\"><span class=\"toc-item-num\">1&nbsp;&nbsp;</span>Objectives</a></span></li><li><span><a href=\"#We-All-Make-Mistakes\" data-toc-modified-id=\"We-All-Make-Mistakes-2\"><span class=\"toc-item-num\">2&nbsp;&nbsp;</span>We All Make Mistakes</a></span><ul class=\"toc-item\"><li><span><a href=\"#Getting-it-Right-vs-Getting-it-Wrong\" data-toc-modified-id=\"Getting-it-Right-vs-Getting-it-Wrong-2.1\"><span class=\"toc-item-num\">2.1&nbsp;&nbsp;</span>Getting it Right vs Getting it Wrong</a></span></li><li><span><a href=\"#False-Positives---Type-1-Errors\" data-toc-modified-id=\"False-Positives---Type-1-Errors-2.2\"><span class=\"toc-item-num\">2.2&nbsp;&nbsp;</span>False Positives - Type 1 Errors</a></span></li><li><span><a href=\"#False-Negatives---Type-2-Errors\" data-toc-modified-id=\"False-Negatives---Type-2-Errors-2.3\"><span class=\"toc-item-num\">2.3&nbsp;&nbsp;</span>False Negatives - Type 2 Errors</a></span></li><li><span><a href=\"#Visualizing-The-Errors\" data-toc-modified-id=\"Visualizing-The-Errors-2.4\"><span class=\"toc-item-num\">2.4&nbsp;&nbsp;</span>Visualizing The Errors</a></span></li></ul></li><li><span><a href=\"#When-Things-Aren't-Normal:-$t$-Tests\" data-toc-modified-id=\"When-Things-Aren't-Normal:-$t$-Tests-3\"><span class=\"toc-item-num\">3&nbsp;&nbsp;</span>When Things Aren't Normal: $t$-Tests</a></span><ul class=\"toc-item\"><li><span><a href=\"#$z$-tests-vs-$t$-tests\" data-toc-modified-id=\"$z$-tests-vs-$t$-tests-3.1\"><span class=\"toc-item-num\">3.1&nbsp;&nbsp;</span>$z$-tests vs $t$-tests</a></span></li><li><span><a href=\"#Compare-and-contrast-$z$-tests-and-$t$-tests.\" data-toc-modified-id=\"Compare-and-contrast-$z$-tests-and-$t$-tests.-3.2\"><span class=\"toc-item-num\">3.2&nbsp;&nbsp;</span>Compare and contrast $z$-tests and $t$-tests.</a></span></li><li><span><a href=\"#Performing-a-$t$-Test\" data-toc-modified-id=\"Performing-a-$t$-Test-3.3\"><span class=\"toc-item-num\">3.3&nbsp;&nbsp;</span>Performing a $t$-Test</a></span><ul class=\"toc-item\"><li><span><a href=\"#Let's-set-this-up!\" data-toc-modified-id=\"Let's-set-this-up!-3.3.1\"><span class=\"toc-item-num\">3.3.1&nbsp;&nbsp;</span>Let's set this up!</a></span></li><li><span><a href=\"#Answers:\" data-toc-modified-id=\"Answers:-3.3.2\"><span class=\"toc-item-num\">3.3.2&nbsp;&nbsp;</span>Answers:</a></span></li><li><span><a href=\"#An-Alternative-Method-in-Making-a-Decision\" data-toc-modified-id=\"An-Alternative-Method-in-Making-a-Decision-3.3.3\"><span class=\"toc-item-num\">3.3.3&nbsp;&nbsp;</span>An Alternative Method in Making a Decision</a></span></li></ul></li></ul></li><li><span><a href=\"#Exercises\" data-toc-modified-id=\"Exercises-4\"><span class=\"toc-item-num\">4&nbsp;&nbsp;</span>Exercises</a></span><ul class=\"toc-item\"><li><span><a href=\"#Gotta-Have-My-Coffee!-☕️\" data-toc-modified-id=\"Gotta-Have-My-Coffee!-☕️-4.1\"><span class=\"toc-item-num\">4.1&nbsp;&nbsp;</span>Gotta Have My Coffee! ☕️</a></span></li><li><span><a href=\"#Gotta-Have-My-Pants!-👖\" data-toc-modified-id=\"Gotta-Have-My-Pants!-👖-4.2\"><span class=\"toc-item-num\">4.2&nbsp;&nbsp;</span>Gotta Have My Pants! 👖</a></span></li><li><span><a href=\"#Gotta-Have-My-Food-Delivered!-🚚\" data-toc-modified-id=\"Gotta-Have-My-Food-Delivered!-🚚-4.3\"><span class=\"toc-item-num\">4.3&nbsp;&nbsp;</span>Gotta Have My Food Delivered! 🚚</a></span></li></ul></li><li><span><a href=\"#Level-Up:-More-practice-problems!\" data-toc-modified-id=\"Level-Up:-More-practice-problems!-5\"><span class=\"toc-item-num\">5&nbsp;&nbsp;</span>Level Up: More practice problems!</a></span></li><li><span><a href=\"#Level-Up:--Two-sample-$t$-tests\" data-toc-modified-id=\"Level-Up:--Two-sample-$t$-tests-6\"><span class=\"toc-item-num\">6&nbsp;&nbsp;</span>Level Up:  Two-sample $t$-tests</a></span></li></ul></div>"
   ]
  },
  {
   "cell_type": "code",
   "execution_count": 2,
   "metadata": {
    "ExecuteTime": {
     "end_time": "2023-08-31T23:45:36.025380Z",
     "start_time": "2023-08-31T23:45:34.489691Z"
    }
   },
   "outputs": [],
   "source": [
    "from scipy import stats\n",
    "import numpy as np\n",
    "import seaborn as sns\n",
    "import matplotlib.pyplot as plt"
   ]
  },
  {
   "cell_type": "markdown",
   "metadata": {},
   "source": [
    "# Objectives"
   ]
  },
  {
   "cell_type": "markdown",
   "metadata": {},
   "source": [
    "- Understand how type 1 & type 2 errors can be made in hypothesis tests\n",
    "- Perform a Student's t-test and interpret the results"
   ]
  },
  {
   "cell_type": "markdown",
   "metadata": {},
   "source": [
    "# We All Make Mistakes"
   ]
  },
  {
   "cell_type": "markdown",
   "metadata": {},
   "source": [
    "Statistics is a field of imperfect knowledge: we don't know the **_truth_**, we use what we know.\n",
    "\n",
    "We make mistakes ¯\\\\\\_(ツ)\\_/¯ <!--markdown shrug-->"
   ]
  },
  {
   "cell_type": "markdown",
   "metadata": {},
   "source": [
    "But it's important to know what _kind of mistakes_ we're making in our process and recognize how _frequently_ we might make those mistakes."
   ]
  },
  {
   "cell_type": "markdown",
   "metadata": {},
   "source": [
    "## Getting it Right vs Getting it Wrong"
   ]
  },
  {
   "cell_type": "markdown",
   "metadata": {},
   "source": [
    "It would help if we go over some terminology to help us discuss this types of errors."
   ]
  },
  {
   "cell_type": "markdown",
   "metadata": {},
   "source": [
    "----------------------------------------"
   ]
  },
  {
   "cell_type": "markdown",
   "metadata": {},
   "source": [
    "When we get it **right** we have **true positives** & **true negatives**. These correspond with _rejecting the null hypothesis_ and _failing to reject the null hypothesis_.\n",
    "\n",
    "In either situation, it means our conclusion agrees with the \"truth\"."
   ]
  },
  {
   "cell_type": "markdown",
   "metadata": {},
   "source": [
    "----------------------------------------"
   ]
  },
  {
   "cell_type": "markdown",
   "metadata": {},
   "source": [
    "When we get it **wrong** we either have a **false positive** or a **false negative**. These are the errors we care about."
   ]
  },
  {
   "cell_type": "markdown",
   "metadata": {},
   "source": [
    "## False Positives - Type 1 Errors"
   ]
  },
  {
   "cell_type": "markdown",
   "metadata": {},
   "source": [
    "**False positives** are **type 1 errors** and occur when we _reject the null hypothesis_ (favoring the alternative hypothesis) but the \"truth\" is that we should have _failed to reject_ (favoring the null hypothesis)."
   ]
  },
  {
   "cell_type": "markdown",
   "metadata": {},
   "source": [
    "We can get these errors by random chance and are associated with _finding an effect_ when one doesn't exist. We can expect this to happen if we perform many tests where there is no effect."
   ]
  },
  {
   "cell_type": "markdown",
   "metadata": {},
   "source": [
    "<img src='https://imgs.xkcd.com/comics/significant.png' width=400px/>"
   ]
  },
  {
   "cell_type": "markdown",
   "metadata": {},
   "source": [
    "So what's a decent tolerance of error? Usually at rate between $1\\%$ and $5\\%$ but it depends on the specific experiment."
   ]
  },
  {
   "cell_type": "markdown",
   "metadata": {},
   "source": [
    "We actually define our tolerance with something we're already familiar with, the significance level $\\alpha$"
   ]
  },
  {
   "cell_type": "markdown",
   "metadata": {},
   "source": [
    "## False Negatives - Type 2 Errors"
   ]
  },
  {
   "cell_type": "markdown",
   "metadata": {},
   "source": [
    "**False negatives** are **type 2 errors** and occur when we _fail to reject the null hypothesis_ (favoring the null hypothesis) but the \"truth\" is that we should have _rejected the hypothesis_ (favoring the alternative hypothesis)."
   ]
  },
  {
   "cell_type": "markdown",
   "metadata": {},
   "source": [
    "This can happen again randomly but usually a symptom of not having a \"good enough\" experiment to notice an effect. We're likely to fail to reject $H_0$ if we don't have enough samples and/or the effect is relatively small."
   ]
  },
  {
   "cell_type": "markdown",
   "metadata": {},
   "source": [
    "This error can be denoted with $\\beta$ but typically it's talked about in terms of **statistical power** ($1-\\beta$) which we'll see later. Note that we want $\\beta$ to be small, but statistical power to be high (they're complements of another)"
   ]
  },
  {
   "cell_type": "markdown",
   "metadata": {},
   "source": [
    "Generally, we want our false negative rate $\\beta$ to be about $20\\%$ but again it depends on the application."
   ]
  },
  {
   "cell_type": "markdown",
   "metadata": {},
   "source": [
    "## Visualizing The Errors"
   ]
  },
  {
   "cell_type": "markdown",
   "metadata": {},
   "source": [
    "We can think of a hypothesis test as comparing two normal distributions (or $t$-distributions or whichever test we're doing). \n",
    "\n",
    "There's the sample's distribution and the comparison's distribution given by the null hypothesis (which is the population in a one-sample test)."
   ]
  },
  {
   "cell_type": "code",
   "execution_count": 2,
   "metadata": {
    "ExecuteTime": {
     "end_time": "2023-08-31T23:45:36.572340Z",
     "start_time": "2023-08-31T23:45:36.026348Z"
    }
   },
   "outputs": [
    {
     "data": {
      "image/png": "[encoded data removed]",
      "text/plain": [
       "<Figure size 432x288 with 1 Axes>"
      ]
     },
     "metadata": {
      "needs_background": "light"
     },
     "output_type": "display_data"
    }
   ],
   "source": [
    "# Visulization of two samples being compared with one another\n",
    "fig, ax = plt.subplots()\n",
    "\n",
    "y = np.linspace(stats.norm(0, 1).ppf(0.001),\n",
    "             stats.norm(0, 1).ppf(0.999), 100)\n",
    "\n",
    "alpha = stats.norm(0, 1).ppf(0.95)\n",
    "\n",
    "\n",
    "ax.plot(y, stats.norm(0, 1).pdf(y), 'r-', lw=5, alpha=0.6, label='Group A')\n",
    "ax.axvline(alpha)\n",
    "\n",
    "px = np.arange(stats.norm(0, 1).ppf(0.95), stats.norm(0, 1).ppf(0.999), 0.001)\n",
    "ax.fill_between(px, stats.norm(0, 1).pdf(px), color = 'pink')\n",
    "\n",
    "\n",
    "\n",
    "x = np.linspace(stats.norm(3, 1).ppf(0.001),\n",
    "             stats.norm(3, 1).ppf(0.999), 100)\n",
    "\n",
    "ax.plot(x, stats.norm(3, 1).pdf(x), 'b-', lw=5, alpha=0.6, label='Group B')\n",
    "\n",
    "\n",
    "px = np.arange(stats.norm(0, 1).ppf(0.5),stats.norm(0, 1).ppf(0.95), 0.001)\n",
    "ax.fill_between(px, stats.norm(3, 1).pdf(px), color='blue')\n",
    "ax.legend(loc='upper right')\n",
    "\n",
    "ax.set_title(\"\"\"Hypothesis Testing: \\n\n",
    "$H_0$: the data point is not special and belongs to Group A \\n\n",
    "$H_A$: the data point is special and belongs to Group B \"\"\")\n",
    "ax.text(1.35, 0.25, 'Alpha: .05', rotation=90)\n",
    "\n",
    "ax.annotate('Type I Error!', xy=(2, 0.02),\n",
    "            xytext=(3, 0.1), arrowprops={'facecolor': 'blue'})\n",
    "ax.annotate('Type II Error!', xy=(1, 0.02),\n",
    "            xytext=(-1.5, 0.1), arrowprops={'facecolor': 'red'})\n",
    "\n",
    "plt.tight_layout()"
   ]
  },
  {
   "cell_type": "markdown",
   "metadata": {},
   "source": [
    "We can visualize these two distributions as where we might expect our sample mean to be measured at.\n",
    "\n",
    "Sometimes we might measure an extreme value in our first sample which will be interpreted as a small p-value (too weird to be part of the comparison distribution) resulting into a _type 1 error_."
   ]
  },
  {
   "cell_type": "markdown",
   "metadata": {},
   "source": [
    "# When Things Aren't Normal: $t$-Tests"
   ]
  },
  {
   "cell_type": "markdown",
   "metadata": {},
   "source": [
    "## $z$-tests vs $t$-tests"
   ]
  },
  {
   "cell_type": "markdown",
   "metadata": {},
   "source": [
    "We'll typically assume that our continuous variables come from normal distributions. But if we have a small sample size or don't know the population standard deviation, we have to make a *correction* to  the normal distribution. This is what the $t$-test effectively does for us by using a $t$-distribution over the normal distribution."
   ]
  },
  {
   "cell_type": "markdown",
   "metadata": {},
   "source": [
    "As we saw from a previous lecture, the $t$-distribution changes based on the degrees of freedom (number of data point in the sample). As the number of points increase, we approach the normal distribution."
   ]
  },
  {
   "cell_type": "markdown",
   "metadata": {},
   "source": [
    "<img src=\"images/z_or_t_test.png\" width=\"500\">"
   ]
  },
  {
   "cell_type": "markdown",
   "metadata": {},
   "source": [
    "**So what's the difference?** → A $t$-test is like a modified $z$-test. "
   ]
  },
  {
   "cell_type": "markdown",
   "metadata": {},
   "source": [
    "> **$t$-test**:\n",
    "> \n",
    "> - Calculate the **$t$-statistic** using the sample's standard deviation $s$:\n",
    "> $$\\large t = \\frac{\\bar{x}-\\mu}{\\frac{s}{\\sqrt{n}}}$$\n",
    "> - We calculate the p-value from the **$t$-distribution**"
   ]
  },
  {
   "cell_type": "markdown",
   "metadata": {},
   "source": [
    "> **$z$-test**:\n",
    "> \n",
    "> - Calculate the **$z$-statistic** using the populations standard deviation $\\sigma$:\n",
    "> $$\\large z = \\frac{\\bar{x}-\\mu}{\\frac{\\sigma}{\\sqrt{n}}}$$\n",
    "> - We calculate the p-value from the **normal distribution**"
   ]
  },
  {
   "cell_type": "markdown",
   "metadata": {},
   "source": [
    "\n",
    "<img src=\"images/img5.png\" width=\"500\">"
   ]
  },
  {
   "cell_type": "markdown",
   "metadata": {},
   "source": [
    "## Compare and contrast $z$-tests and $t$-tests. "
   ]
  },
  {
   "cell_type": "markdown",
   "metadata": {},
   "source": [
    "In both cases, it is assumed that the samples are normally distributed. \n",
    "\n",
    "$t$-distributions have more probability in the tails. As the sample size increases, this decreases and the t distribution more closely resembles the $z$, or standard normal, distribution. By sample size $n = 1000$ they are virtually indistinguishable from each other. \n",
    "\n",
    "As the degrees of freedom go up, the $t$-distribution gets closer to the normal curve.\n",
    "\n",
    "After calculating our $t$-stat, we compare it against our $t$-critical value determined by our predetermined alpha and the degrees of freedom.\n",
    "\n",
    "Degrees of freedom = n - 1"
   ]
  },
  {
   "cell_type": "code",
   "execution_count": 3,
   "metadata": {
    "ExecuteTime": {
     "end_time": "2023-08-31T23:45:36.587340Z",
     "start_time": "2023-08-31T23:45:36.573340Z"
    }
   },
   "outputs": [
    {
     "name": "stdout",
     "output_type": "stream",
     "text": [
      "Help on function ttest_1samp in module scipy.stats.stats:\n",
      "\n",
      "ttest_1samp(a, popmean, axis=0, nan_policy='propagate')\n",
      "    Calculate the T-test for the mean of ONE group of scores.\n",
      "    \n",
      "    This is a two-sided test for the null hypothesis that the expected value\n",
      "    (mean) of a sample of independent observations `a` is equal to the given\n",
      "    population mean, `popmean`.\n",
      "    \n",
      "    Parameters\n",
      "    ----------\n",
      "    a : array_like\n",
      "        Sample observation.\n",
      "    popmean : float or array_like\n",
      "        Expected value in null hypothesis. If array_like, then it must have the\n",
      "        same shape as `a` excluding the axis dimension.\n",
      "    axis : int or None, optional\n",
      "        Axis along which to compute test. If None, compute over the whole\n",
      "        array `a`.\n",
      "    nan_policy : {'propagate', 'raise', 'omit'}, optional\n",
      "        Defines how to handle when input contains nan.\n",
      "        The following options are available (default is 'propagate'):\n",
      "    \n",
      "          * 'propagate': returns nan\n",
      "          * 'raise': throws an error\n",
      "          * 'omit': performs the calculations ignoring nan values\n",
      "    \n",
      "    Returns\n",
      "    -------\n",
      "    statistic : float or array\n",
      "        t-statistic.\n",
      "    pvalue : float or array\n",
      "        Two-sided p-value.\n",
      "    \n",
      "    Examples\n",
      "    --------\n",
      "    >>> from scipy import stats\n",
      "    \n",
      "    >>> np.random.seed(7654567)  # fix seed to get the same result\n",
      "    >>> rvs = stats.norm.rvs(loc=5, scale=10, size=(50,2))\n",
      "    \n",
      "    Test if mean of random sample is equal to true mean, and different mean.\n",
      "    We reject the null hypothesis in the second case and don't reject it in\n",
      "    the first case.\n",
      "    \n",
      "    >>> stats.ttest_1samp(rvs,5.0)\n",
      "    (array([-0.68014479, -0.04323899]), array([ 0.49961383,  0.96568674]))\n",
      "    >>> stats.ttest_1samp(rvs,0.0)\n",
      "    (array([ 2.77025808,  4.11038784]), array([ 0.00789095,  0.00014999]))\n",
      "    \n",
      "    Examples using axis and non-scalar dimension for population mean.\n",
      "    \n",
      "    >>> stats.ttest_1samp(rvs,[5.0,0.0])\n",
      "    (array([-0.68014479,  4.11038784]), array([  4.99613833e-01,   1.49986458e-04]))\n",
      "    >>> stats.ttest_1samp(rvs.T,[5.0,0.0],axis=1)\n",
      "    (array([-0.68014479,  4.11038784]), array([  4.99613833e-01,   1.49986458e-04]))\n",
      "    >>> stats.ttest_1samp(rvs,[[5.0],[0.0]])\n",
      "    (array([[-0.68014479, -0.04323899],\n",
      "           [ 2.77025808,  4.11038784]]), array([[  4.99613833e-01,   9.65686743e-01],\n",
      "           [  7.89094663e-03,   1.49986458e-04]]))\n",
      "\n"
     ]
    }
   ],
   "source": [
    "help(stats.ttest_1samp)"
   ]
  },
  {
   "cell_type": "markdown",
   "metadata": {},
   "source": [
    "## Performing a $t$-Test"
   ]
  },
  {
   "cell_type": "markdown",
   "metadata": {},
   "source": [
    "> **Scenario**\n",
    ">\n",
    "> - We are told that African elephants have weights distributed normally around a mean of $9000$ lbs. \n",
    "> - Pachyderm Adventures has recently measured the weights of $20$ African elephants in Gabon  \n",
    "> - This group of Gabonese elephants were measured to have an average weight at $8562$ lbs. \n",
    ">\n",
    "> The claim is that these Gabonese elephants are significantly different. Let's find out!"
   ]
  },
  {
   "cell_type": "markdown",
   "metadata": {},
   "source": [
    "### Let's set this up!"
   ]
  },
  {
   "cell_type": "markdown",
   "metadata": {},
   "source": [
    "What Test?\n",
    "\n",
    "What is the Null Hypothesis?\n",
    "\n",
    "What is the Alternative Hypothesis?"
   ]
  },
  {
   "cell_type": "markdown",
   "metadata": {},
   "source": [
    "### Answers:"
   ]
  },
  {
   "cell_type": "markdown",
   "metadata": {},
   "source": [
    "# Test?\n",
    "t-test - sample size (20) is less than 30"
   ]
  },
  {
   "cell_type": "markdown",
   "metadata": {},
   "source": [
    "# H_0?\n",
    "\n",
    "Gabonese elephants are __not__ statistically different."
   ]
  },
  {
   "cell_type": "markdown",
   "metadata": {},
   "source": [
    "# H_A?\n",
    "\n",
    "Gabonese elephants __are__ significantly different than African elephants."
   ]
  },
  {
   "cell_type": "code",
   "execution_count": 5,
   "metadata": {
    "ExecuteTime": {
     "end_time": "2023-08-31T23:45:36.602340Z",
     "start_time": "2023-08-31T23:45:36.588340Z"
    }
   },
   "outputs": [],
   "source": [
    "# We're given these values from the sample\n",
    "gab = np.array([\n",
    "        8234, 8929, 7922, 8688, 8840, \n",
    "        8759, 8127, 8574, 8533, 8944, \n",
    "        8631, 8665, 8712, 8984, 8601, \n",
    "        8559, 8228, 8474, 8708, 8128\n",
    "])"
   ]
  },
  {
   "cell_type": "code",
   "execution_count": 6,
   "metadata": {
    "ExecuteTime": {
     "end_time": "2023-08-31T23:45:36.618339Z",
     "start_time": "2023-08-31T23:45:36.603340Z"
    }
   },
   "outputs": [
    {
     "name": "stdout",
     "output_type": "stream",
     "text": [
      "Sample mean: 8562.0\n",
      "Sample std: 288.7\n"
     ]
    }
   ],
   "source": [
    "print(f'Sample mean: {np.mean(gab):.1f}')\n",
    "print(f'Sample std: {np.std(gab):.1f}')"
   ]
  },
  {
   "cell_type": "code",
   "execution_count": 12,
   "metadata": {
    "ExecuteTime": {
     "end_time": "2023-08-31T23:45:36.633338Z",
     "start_time": "2023-08-31T23:45:36.619339Z"
    }
   },
   "outputs": [
    {
     "data": {
      "text/plain": [
       "Ttest_1sampResult(statistic=-6.614120615780001, pvalue=2.498214901380137e-06)"
      ]
     },
     "execution_count": 12,
     "metadata": {},
     "output_type": "execute_result"
    }
   ],
   "source": [
    "# Using Python to perform test\n",
    "result = stats.ttest_1samp(gab, 9000)\n",
    "t_stat, p_value = result\n",
    "result"
   ]
  },
  {
   "cell_type": "markdown",
   "metadata": {},
   "source": [
    "So, yes, we can very confidently reject our null hypothesis since the p-value is smaller than our $\\alpha$."
   ]
  },
  {
   "cell_type": "markdown",
   "metadata": {},
   "source": [
    "### An Alternative Method in Making a Decision"
   ]
  },
  {
   "cell_type": "markdown",
   "metadata": {},
   "source": [
    "We used SciPy above to calculate our $t$-value and ultimately our p-value from the $t$-distribution. \n",
    "\n",
    "Alternatively, we can convert our significance level $\\alpha$ using the $t$-distribution to get our **critical value $t^*$**. We then can compare $t^*$ with our $t$-statistic to determine if it's significant."
   ]
  },
  {
   "cell_type": "code",
   "execution_count": 37,
   "metadata": {
    "ExecuteTime": {
     "end_time": "2023-08-31T23:45:36.649340Z",
     "start_time": "2023-08-31T23:45:36.634339Z"
    }
   },
   "outputs": [
    {
     "data": {
      "text/plain": [
       "-6.614120615780003"
      ]
     },
     "execution_count": 37,
     "metadata": {},
     "output_type": "execute_result"
    }
   ],
   "source": [
    "# Let's continue to assume our alpha is 0.05\n",
    "x_bar = 8562\n",
    "mu = 9000\n",
    "sample_std = np.std(gab)\n",
    "n = 20\n",
    "\n",
    "t_stat = (x_bar - mu)/(sample_std/np.sqrt(n-1))\n",
    "t_stat"
   ]
  },
  {
   "cell_type": "code",
   "execution_count": 38,
   "metadata": {
    "ExecuteTime": {
     "end_time": "2023-08-31T23:45:36.665339Z",
     "start_time": "2023-08-31T23:45:36.652340Z"
    }
   },
   "outputs": [
    {
     "data": {
      "text/plain": [
       "-1.7291328115213678"
      ]
     },
     "execution_count": 38,
     "metadata": {},
     "output_type": "execute_result"
    }
   ],
   "source": [
    "# Calculate our t-critical value t*\n",
    "stats.t.ppf(0.05, n-1)"
   ]
  },
  {
   "cell_type": "markdown",
   "metadata": {},
   "source": [
    "We can again confidently reject our null hypothesis since the absolute value of our $t$-statistic is larger than that of our critical value $t^*$."
   ]
  },
  {
   "cell_type": "markdown",
   "metadata": {
    "slideshow": {
     "slide_type": "slide"
    }
   },
   "source": [
    "# Exercises"
   ]
  },
  {
   "cell_type": "markdown",
   "metadata": {
    "slideshow": {
     "slide_type": "slide"
    }
   },
   "source": [
    "## Gotta Have My Coffee! ☕️"
   ]
  },
  {
   "cell_type": "markdown",
   "metadata": {
    "slideshow": {
     "slide_type": "slide"
    }
   },
   "source": [
    "A coffee shop relocates from Manhattan to Brooklyn and wants to make sure that all lattes are consistent before and after their move. They buy a new machine and hire a new barista. In Manhattan, lattes are made with 4 oz of espresso. A random sample of 25 lattes made in their new store in Brooklyn shows a mean of 4.6 oz and standard deviation of 0.22 oz. Are their lattes different now that they've relocated to Brooklyn? Use a significance level of $\\alpha = 0.01$."
   ]
  },
  {
   "cell_type": "markdown",
   "metadata": {},
   "source": [
    "**State the null and alternative hypotheses**"
   ]
  },
  {
   "cell_type": "markdown",
   "metadata": {
    "ExecuteTime": {
     "end_time": "2023-08-31T23:45:36.681341Z",
     "start_time": "2023-08-31T23:45:36.667341Z"
    }
   },
   "source": [
    "# Your Answer Here\n",
    "\n",
    "Null - amount of espresso is same in Manhattan and Brooklyn\n",
    "\n",
    "Alt - diff amounts of espresso."
   ]
  },
  {
   "cell_type": "markdown",
   "metadata": {},
   "source": [
    "**Perform the test.**"
   ]
  },
  {
   "cell_type": "code",
   "execution_count": 36,
   "metadata": {},
   "outputs": [
    {
     "name": "stdout",
     "output_type": "stream",
     "text": [
      "Reject null\n"
     ]
    },
    {
     "data": {
      "text/plain": [
       "(13.63636363636363, 1.7108820799094282)"
      ]
     },
     "execution_count": 36,
     "metadata": {},
     "output_type": "execute_result"
    }
   ],
   "source": [
    "# t-test\n",
    "mu = 4\n",
    "x_bar = 4.6\n",
    "sample_std = 0.22\n",
    "n = 25\n",
    "\n",
    "t_stat = (x_bar - mu)/(sample_std/np.sqrt(n))\n",
    "t_critical = abs(stats.t.ppf(alpha, n-1))\n",
    "\n",
    "if t_stat > t_critical:\n",
    "    print('Reject null')\n",
    "else:\n",
    "    print('Cannot reject null')\n",
    "    \n",
    "t_stat, t_critical"
   ]
  },
  {
   "cell_type": "markdown",
   "metadata": {
    "slideshow": {
     "slide_type": "notes"
    }
   },
   "source": [
    "**Make a decision**."
   ]
  },
  {
   "cell_type": "markdown",
   "metadata": {},
   "source": [
    "Reject null hypothesis."
   ]
  },
  {
   "cell_type": "markdown",
   "metadata": {
    "slideshow": {
     "slide_type": "slide"
    }
   },
   "source": [
    "## Gotta Have My Pants! 👖"
   ]
  },
  {
   "cell_type": "markdown",
   "metadata": {
    "slideshow": {
     "slide_type": "slide"
    }
   },
   "source": [
    "I'm buying jeans from Pants-a-torium. I know nothing about their inventory other than prices after looking at some random jean prices: \n",
    "\n",
    "``` python\n",
    "[20, 30, 30, 50, 75, 25, 30, 30, 40, 80]\n",
    "```\n",
    "However, I know that my typical pants store (Pants-R-Us) sells jeans at an average price of \\\\$58 with a standard deviation of \\\\$18. (Yes, I do descriptive statistics while I shop. Why do you ask?)\n",
    "\n",
    "Should I go just to one store for a less expensive pair of jeans? I'm pretty apprehensive about my decision, so $\\alpha = 0.1$."
   ]
  },
  {
   "cell_type": "markdown",
   "metadata": {
    "slideshow": {
     "slide_type": "slide"
    }
   },
   "source": [
    "**State the null and alternative hypotheses**"
   ]
  },
  {
   "cell_type": "markdown",
   "metadata": {},
   "source": [
    "null - prices are the same at the two stores.\n",
    "alt - one price is lower than the other."
   ]
  },
  {
   "cell_type": "markdown",
   "metadata": {},
   "source": [
    "**Perform the test.**"
   ]
  },
  {
   "cell_type": "code",
   "execution_count": 30,
   "metadata": {},
   "outputs": [
    {
     "name": "stdout",
     "output_type": "stream",
     "text": [
      "reject null\n"
     ]
    },
    {
     "data": {
      "text/plain": [
       "0.03022035629578255"
      ]
     },
     "execution_count": 30,
     "metadata": {},
     "output_type": "execute_result"
    }
   ],
   "source": [
    "pants = [20, 30, 30, 50, 75, 25, 30, 30, 40, 80]\n",
    "mu = 58\n",
    "std = 18\n",
    "alpha = 0.1\n",
    "\n",
    "statistic, p_value = stats.ttest_1samp(pants, 58)\n",
    "\n",
    "if p_value < alpha/2:\n",
    "    print('reject null')\n",
    "else:\n",
    "    print('cannot reject null')\n",
    "    \n",
    "p_value"
   ]
  },
  {
   "cell_type": "markdown",
   "metadata": {},
   "source": [
    "**Make a decision.**"
   ]
  },
  {
   "cell_type": "markdown",
   "metadata": {},
   "source": [
    "Reject null hypothesis"
   ]
  },
  {
   "cell_type": "markdown",
   "metadata": {
    "slideshow": {
     "slide_type": "slide"
    }
   },
   "source": [
    "## Gotta Have My Food Delivered! 🚚"
   ]
  },
  {
   "cell_type": "markdown",
   "metadata": {
    "slideshow": {
     "slide_type": "slide"
    }
   },
   "source": [
    "You measure the delivery times of ten different restaurants in two different neighborhoods. You want to know if restaurants in the different neighborhoods have the same delivery times. Set your significance threshold to 0.05. \n",
    "\n",
    "We measured this for neighborhood A: \n",
    "\n",
    "``` python\n",
    "delivery_times_A = [28.4, 23.3, 30.4, 28.1, 29.4, 30.6, 27.8, 30.9, 27.0, 32.8]\n",
    "```\n",
    "\n",
    "For neighborhood B, someone already reported the values as a mean time of 26.8 minutes and a standard deviation of 2.6 minutes.\n"
   ]
  },
  {
   "cell_type": "markdown",
   "metadata": {
    "slideshow": {
     "slide_type": "slide"
    }
   },
   "source": [
    "**State the null and alternative hypotheses.**"
   ]
  },
  {
   "cell_type": "markdown",
   "metadata": {},
   "source": [
    "null - delivery times are same for both neighborhoods.\n",
    "\n",
    "alt - different delivery times."
   ]
  },
  {
   "cell_type": "markdown",
   "metadata": {},
   "source": [
    "**Perform the test.**"
   ]
  },
  {
   "cell_type": "code",
   "execution_count": 31,
   "metadata": {},
   "outputs": [
    {
     "name": "stdout",
     "output_type": "stream",
     "text": [
      "cannot reject null\n"
     ]
    },
    {
     "data": {
      "text/plain": [
       "0.03381505781838732"
      ]
     },
     "execution_count": 31,
     "metadata": {},
     "output_type": "execute_result"
    }
   ],
   "source": [
    "delivery_times_A = [28.4, 23.3, 30.4, 28.1, 29.4, 30.6, 27.8, 30.9, 27.0, 32.8]\n",
    "mu = 26.8\n",
    "std = 2.6\n",
    "alpha = 0.05\n",
    "\n",
    "statistic, p_value = stats.ttest_1samp(delivery_times_A, mu)\n",
    "\n",
    "if p_value < alpha/2:\n",
    "    print('reject null')\n",
    "else:\n",
    "    print('cannot reject null')\n",
    "    \n",
    "p_value"
   ]
  },
  {
   "cell_type": "code",
   "execution_count": 34,
   "metadata": {},
   "outputs": [
    {
     "data": {
      "text/plain": [
       "28.869999999999997"
      ]
     },
     "execution_count": 34,
     "metadata": {},
     "output_type": "execute_result"
    }
   ],
   "source": [
    "np.mean(delivery_times_A)"
   ]
  },
  {
   "cell_type": "markdown",
   "metadata": {},
   "source": [
    "**Make a decision.**"
   ]
  },
  {
   "cell_type": "markdown",
   "metadata": {},
   "source": [
    "cannot reject null"
   ]
  },
  {
   "cell_type": "markdown",
   "metadata": {
    "slideshow": {
     "slide_type": "slide"
    }
   },
   "source": [
    "# Level Up: More practice problems!"
   ]
  },
  {
   "cell_type": "markdown",
   "metadata": {
    "slideshow": {
     "slide_type": "slide"
    }
   },
   "source": [
    "1. A rental car company claims the mean time to rent a car on their website is 60 seconds with a standard deviation of 30 seconds. A random sample of 36 customers attempted to rent a car on the website. The mean time to rent was 75 seconds. Is this enough evidence to contradict the company's claim at a significance level of $\\alpha = 0.05$? "
   ]
  },
  {
   "cell_type": "markdown",
   "metadata": {
    "slideshow": {
     "slide_type": "notes"
    }
   },
   "source": [
    "Null hypothesis:\n",
    "\n",
    "Alternative hypothesis:\n"
   ]
  },
  {
   "cell_type": "markdown",
   "metadata": {},
   "source": [
    "<details>\n",
    "    <summary>Answer</summary>\n",
    "    Null: The customers' rent time is not different from what the company claims.\n",
    "    Alternative: The customers' rent time is different from what the company claims.\n",
    "    </details>"
   ]
  },
  {
   "cell_type": "code",
   "execution_count": 18,
   "metadata": {
    "ExecuteTime": {
     "end_time": "2023-08-31T23:45:36.697340Z",
     "start_time": "2023-08-31T23:45:36.686340Z"
    },
    "slideshow": {
     "slide_type": "notes"
    }
   },
   "outputs": [
    {
     "data": {
      "text/plain": [
       "(3.0, 0.0013498980316300933)"
      ]
     },
     "execution_count": 18,
     "metadata": {},
     "output_type": "execute_result"
    }
   ],
   "source": [
    "# one-sample t-test (even though we have pop (claimed) std and samp size is greater than 30)\n",
    "mu = 60\n",
    "sigma = 30\n",
    "\n",
    "x_bar = 75\n",
    "n = 36\n",
    "a= 0.05\n",
    "se = (sigma / np.sqrt(n))\n",
    "\n",
    "z_stat = (x_bar - mu) / se\n",
    "p = stats.norm.sf(z_stat)\n",
    "\n",
    "z_stat, p"
   ]
  },
  {
   "cell_type": "code",
   "execution_count": 21,
   "metadata": {},
   "outputs": [
    {
     "data": {
      "image/png": "[encoded data removed]",
      "text/plain": [
       "<Figure size 720x432 with 1 Axes>"
      ]
     },
     "metadata": {
      "needs_background": "light"
     },
     "output_type": "display_data"
    }
   ],
   "source": [
    "x = np.linspace(mu - 4*sigma, mu + 4*sigma, 1000)\n",
    "pdf_pop = stats.norm.pdf(x, mu, sigma)\n",
    "pdf_sample = stats.norm.pdf(x, x_bar, se)\n",
    "\n",
    "plt.figure(figsize=(10,6))\n",
    "plt.plot(x, pdf_pop, label='Population Distribution', color='blue')\n",
    "plt.plot(x, pdf_sample, label='Sampling Distribution of the Mean', color='red', linestyle='dashed')\n",
    "plt.axvline(x=mu, color='gray', linestyle='--', label=\"Population Mean\")\n",
    "plt.axvline(x=x_bar, color='green', linestyle='-.', label=\"Sample Mean\")\n",
    "plt.legend()\n",
    "plt.title('Population Distribution vs. Sampling Distribution of the Mean')\n",
    "plt.xlabel('Value')\n",
    "plt.ylabel('Probability Density Function')\n",
    "plt.show()"
   ]
  },
  {
   "cell_type": "code",
   "execution_count": 11,
   "metadata": {},
   "outputs": [
    {
     "data": {
      "text/plain": [
       "array([4.46100753e-06, 4.60606821e-06, 4.75554093e-06, 4.90954938e-06,\n",
       "       5.06822038e-06, 5.23168393e-06, 5.40007330e-06, 5.57352510e-06,\n",
       "       5.75217933e-06, 5.93617947e-06, 6.12567255e-06, 6.32080921e-06,\n",
       "       6.52174382e-06, 6.72863451e-06, 6.94164327e-06, 7.16093602e-06,\n",
       "       7.38668272e-06, 7.61905742e-06, 7.85823835e-06, 8.10440801e-06,\n",
       "       8.35775329e-06, 8.61846547e-06, 8.88674042e-06, 9.16277860e-06,\n",
       "       9.44678519e-06, 9.73897021e-06, 1.00395485e-05, 1.03487401e-05,\n",
       "       1.06667699e-05, 1.09938680e-05, 1.13302701e-05, 1.16762170e-05,\n",
       "       1.20319551e-05, 1.23977363e-05, 1.27738184e-05, 1.31604648e-05,\n",
       "       1.35579451e-05, 1.39665346e-05, 1.43865149e-05, 1.48181740e-05,\n",
       "       1.52618060e-05, 1.57177117e-05, 1.61861983e-05, 1.66675799e-05,\n",
       "       1.71621772e-05, 1.76703181e-05, 1.81923375e-05, 1.87285774e-05,\n",
       "       1.92793872e-05, 1.98451237e-05, 2.04261513e-05, 2.10228420e-05,\n",
       "       2.16355759e-05, 2.22647407e-05, 2.29107325e-05, 2.35739553e-05,\n",
       "       2.42548217e-05, 2.49537527e-05, 2.56711779e-05, 2.64075357e-05,\n",
       "       2.71632734e-05, 2.79388473e-05, 2.87347228e-05, 2.95513747e-05,\n",
       "       3.03892873e-05, 3.12489545e-05, 3.21308798e-05, 3.30355767e-05,\n",
       "       3.39635687e-05, 3.49153895e-05, 3.58915831e-05, 3.68927040e-05,\n",
       "       3.79193174e-05, 3.89719990e-05, 4.00513357e-05, 4.11579253e-05,\n",
       "       4.22923771e-05, 4.34553113e-05, 4.46473601e-05, 4.58691671e-05,\n",
       "       4.71213878e-05, 4.84046897e-05, 4.97197524e-05, 5.10672680e-05,\n",
       "       5.24479407e-05, 5.38624875e-05, 5.53116382e-05, 5.67961355e-05,\n",
       "       5.83167350e-05, 5.98742056e-05, 6.14693298e-05, 6.31029032e-05,\n",
       "       6.47757355e-05, 6.64886499e-05, 6.82424838e-05, 7.00380887e-05,\n",
       "       7.18763304e-05, 7.37580889e-05, 7.56842593e-05, 7.76557509e-05,\n",
       "       7.96734882e-05, 8.17384106e-05, 8.38514729e-05, 8.60136450e-05,\n",
       "       8.82259124e-05, 9.04892760e-05, 9.28047528e-05, 9.51733755e-05,\n",
       "       9.75961929e-05, 1.00074270e-04, 1.02608688e-04, 1.05200544e-04,\n",
       "       1.07850953e-04, 1.10561046e-04, 1.13331970e-04, 1.16164891e-04,\n",
       "       1.19060990e-04, 1.22021466e-04, 1.25047535e-04, 1.28140432e-04,\n",
       "       1.31301408e-04, 1.34531731e-04, 1.37832688e-04, 1.41205584e-04,\n",
       "       1.44651742e-04, 1.48172501e-04, 1.51769222e-04, 1.55443280e-04,\n",
       "       1.59196071e-04, 1.63029009e-04, 1.66943525e-04, 1.70941071e-04,\n",
       "       1.75023117e-04, 1.79191149e-04, 1.83446675e-04, 1.87791220e-04,\n",
       "       1.92226330e-04, 1.96753566e-04, 2.01374512e-04, 2.06090768e-04,\n",
       "       2.10903956e-04, 2.15815713e-04, 2.20827700e-04, 2.25941592e-04,\n",
       "       2.31159086e-04, 2.36481899e-04, 2.41911764e-04, 2.47450435e-04,\n",
       "       2.53099685e-04, 2.58861305e-04, 2.64737107e-04, 2.70728920e-04,\n",
       "       2.76838592e-04, 2.83067990e-04, 2.89419002e-04, 2.95893531e-04,\n",
       "       3.02493502e-04, 3.09220856e-04, 3.16077554e-04, 3.23065575e-04,\n",
       "       3.30186916e-04, 3.37443593e-04, 3.44837639e-04, 3.52371104e-04,\n",
       "       3.60046060e-04, 3.67864591e-04, 3.75828803e-04, 3.83940816e-04,\n",
       "       3.92202770e-04, 4.00616819e-04, 4.09185137e-04, 4.17909911e-04,\n",
       "       4.26793348e-04, 4.35837667e-04, 4.45045108e-04, 4.54417921e-04,\n",
       "       4.63958375e-04, 4.73668754e-04, 4.83551354e-04, 4.93608490e-04,\n",
       "       5.03842487e-04, 5.14255687e-04, 5.24850444e-04, 5.35629125e-04,\n",
       "       5.46594110e-04, 5.57747795e-04, 5.69092582e-04, 5.80630891e-04,\n",
       "       5.92365150e-04, 6.04297798e-04, 6.16431286e-04, 6.28768076e-04,\n",
       "       6.41310638e-04, 6.54061451e-04, 6.67023005e-04, 6.80197797e-04,\n",
       "       6.93588333e-04, 7.07197126e-04, 7.21026694e-04, 7.35079566e-04,\n",
       "       7.49358273e-04, 7.63865353e-04, 7.78603348e-04, 7.93574805e-04,\n",
       "       8.08782276e-04, 8.24228313e-04, 8.39915472e-04, 8.55846313e-04,\n",
       "       8.72023393e-04, 8.88449275e-04, 9.05126516e-04, 9.22057677e-04,\n",
       "       9.39245316e-04, 9.56691989e-04, 9.74400248e-04, 9.92372645e-04,\n",
       "       1.01061172e-03, 1.02912003e-03, 1.04790009e-03, 1.06695443e-03,\n",
       "       1.08628559e-03, 1.10589606e-03, 1.12578837e-03, 1.14596499e-03,\n",
       "       1.16642843e-03, 1.18718114e-03, 1.20822559e-03, 1.22956423e-03,\n",
       "       1.25119950e-03, 1.27313382e-03, 1.29536958e-03, 1.31790918e-03,\n",
       "       1.34075500e-03, 1.36390937e-03, 1.38737464e-03, 1.41115312e-03,\n",
       "       1.43524709e-03, 1.45965884e-03, 1.48439061e-03, 1.50944462e-03,\n",
       "       1.53482308e-03, 1.56052814e-03, 1.58656197e-03, 1.61292667e-03,\n",
       "       1.63962434e-03, 1.66665703e-03, 1.69402678e-03, 1.72173557e-03,\n",
       "       1.74978538e-03, 1.77817813e-03, 1.80691571e-03, 1.83599998e-03,\n",
       "       1.86543277e-03, 1.89521585e-03, 1.92535097e-03, 1.95583983e-03,\n",
       "       1.98668409e-03, 2.01788536e-03, 2.04944522e-03, 2.08136521e-03,\n",
       "       2.11364679e-03, 2.14629142e-03, 2.17930047e-03, 2.21267529e-03,\n",
       "       2.24641717e-03, 2.28052733e-03, 2.31500697e-03, 2.34985722e-03,\n",
       "       2.38507915e-03, 2.42067377e-03, 2.45664207e-03, 2.49298493e-03,\n",
       "       2.52970321e-03, 2.56679769e-03, 2.60426910e-03, 2.64211809e-03,\n",
       "       2.68034527e-03, 2.71895117e-03, 2.75793625e-03, 2.79730092e-03,\n",
       "       2.83704551e-03, 2.87717028e-03, 2.91767544e-03, 2.95856110e-03,\n",
       "       2.99982731e-03, 3.04147406e-03, 3.08350124e-03, 3.12590870e-03,\n",
       "       3.16869617e-03, 3.21186334e-03, 3.25540981e-03, 3.29933509e-03,\n",
       "       3.34363863e-03, 3.38831979e-03, 3.43337784e-03, 3.47881197e-03,\n",
       "       3.52462130e-03, 3.57080486e-03, 3.61736159e-03, 3.66429034e-03,\n",
       "       3.71158987e-03, 3.75925888e-03, 3.80729596e-03, 3.85569960e-03,\n",
       "       3.90446822e-03, 3.95360014e-03, 4.00309359e-03, 4.05294672e-03,\n",
       "       4.10315756e-03, 4.15372408e-03, 4.20464412e-03, 4.25591544e-03,\n",
       "       4.30753573e-03, 4.35950255e-03, 4.41181337e-03, 4.46446558e-03,\n",
       "       4.51745645e-03, 4.57078317e-03, 4.62444283e-03, 4.67843240e-03,\n",
       "       4.73274878e-03, 4.78738875e-03, 4.84234901e-03, 4.89762614e-03,\n",
       "       4.95321662e-03, 5.00911684e-03, 5.06532310e-03, 5.12183157e-03,\n",
       "       5.17863834e-03, 5.23573939e-03, 5.29313060e-03, 5.35080775e-03,\n",
       "       5.40876652e-03, 5.46700249e-03, 5.52551113e-03, 5.58428781e-03,\n",
       "       5.64332782e-03, 5.70262631e-03, 5.76217837e-03, 5.82197896e-03,\n",
       "       5.88202295e-03, 5.94230512e-03, 6.00282012e-03, 6.06356254e-03,\n",
       "       6.12452685e-03, 6.18570740e-03, 6.24709849e-03, 6.30869429e-03,\n",
       "       6.37048888e-03, 6.43247624e-03, 6.49465025e-03, 6.55700471e-03,\n",
       "       6.61953332e-03, 6.68222968e-03, 6.74508730e-03, 6.80809960e-03,\n",
       "       6.87125990e-03, 6.93456143e-03, 6.99799735e-03, 7.06156071e-03,\n",
       "       7.12524447e-03, 7.18904152e-03, 7.25294466e-03, 7.31694659e-03,\n",
       "       7.38103995e-03, 7.44521727e-03, 7.50947102e-03, 7.57379359e-03,\n",
       "       7.63817727e-03, 7.70261430e-03, 7.76709683e-03, 7.83161693e-03,\n",
       "       7.89616660e-03, 7.96073778e-03, 8.02532233e-03, 8.08991204e-03,\n",
       "       8.15449863e-03, 8.21907376e-03, 8.28362903e-03, 8.34815597e-03,\n",
       "       8.41264605e-03, 8.47709068e-03, 8.54148121e-03, 8.60580896e-03,\n",
       "       8.67006515e-03, 8.73424100e-03, 8.79832763e-03, 8.86231615e-03,\n",
       "       8.92619761e-03, 8.98996301e-03, 9.05360332e-03, 9.11710946e-03,\n",
       "       9.18047231e-03, 9.24368273e-03, 9.30673152e-03, 9.36960949e-03,\n",
       "       9.43230737e-03, 9.49481589e-03, 9.55712577e-03, 9.61922767e-03,\n",
       "       9.68111225e-03, 9.74277016e-03, 9.80419201e-03, 9.86536842e-03,\n",
       "       9.92628998e-03, 9.98694729e-03, 1.00473309e-02, 1.01074315e-02,\n",
       "       1.01672395e-02, 1.02267455e-02, 1.02859402e-02, 1.03448142e-02,\n",
       "       1.04033579e-02, 1.04615620e-02, 1.05194172e-02, 1.05769140e-02,\n",
       "       1.06340431e-02, 1.06907952e-02, 1.07471609e-02, 1.08031311e-02,\n",
       "       1.08586963e-02, 1.09138474e-02, 1.09685752e-02, 1.10228706e-02,\n",
       "       1.10767243e-02, 1.11301274e-02, 1.11830708e-02, 1.12355455e-02,\n",
       "       1.12875426e-02, 1.13390531e-02, 1.13900682e-02, 1.14405791e-02,\n",
       "       1.14905772e-02, 1.15400537e-02, 1.15890000e-02, 1.16374077e-02,\n",
       "       1.16852681e-02, 1.17325730e-02, 1.17793139e-02, 1.18254827e-02,\n",
       "       1.18710712e-02, 1.19160712e-02, 1.19604748e-02, 1.20042740e-02,\n",
       "       1.20474610e-02, 1.20900280e-02, 1.21319674e-02, 1.21732716e-02,\n",
       "       1.22139332e-02, 1.22539447e-02, 1.22932989e-02, 1.23319887e-02,\n",
       "       1.23700069e-02, 1.24073467e-02, 1.24440011e-02, 1.24799635e-02,\n",
       "       1.25152272e-02, 1.25497857e-02, 1.25836327e-02, 1.26167618e-02,\n",
       "       1.26491669e-02, 1.26808421e-02, 1.27117814e-02, 1.27419790e-02,\n",
       "       1.27714293e-02, 1.28001268e-02, 1.28280661e-02, 1.28552420e-02,\n",
       "       1.28816493e-02, 1.29072832e-02, 1.29321387e-02, 1.29562112e-02,\n",
       "       1.29794961e-02, 1.30019891e-02, 1.30236858e-02, 1.30445822e-02,\n",
       "       1.30646743e-02, 1.30839582e-02, 1.31024303e-02, 1.31200872e-02,\n",
       "       1.31369253e-02, 1.31529416e-02, 1.31681329e-02, 1.31824963e-02,\n",
       "       1.31960292e-02, 1.32087289e-02, 1.32205929e-02, 1.32316191e-02,\n",
       "       1.32418052e-02, 1.32511494e-02, 1.32596499e-02, 1.32673049e-02,\n",
       "       1.32741131e-02, 1.32800732e-02, 1.32851839e-02, 1.32894444e-02,\n",
       "       1.32928538e-02, 1.32954113e-02, 1.32971167e-02, 1.32979694e-02,\n",
       "       1.32979694e-02, 1.32971167e-02, 1.32954113e-02, 1.32928538e-02,\n",
       "       1.32894444e-02, 1.32851839e-02, 1.32800732e-02, 1.32741131e-02,\n",
       "       1.32673049e-02, 1.32596499e-02, 1.32511494e-02, 1.32418052e-02,\n",
       "       1.32316191e-02, 1.32205929e-02, 1.32087289e-02, 1.31960292e-02,\n",
       "       1.31824963e-02, 1.31681329e-02, 1.31529416e-02, 1.31369253e-02,\n",
       "       1.31200872e-02, 1.31024303e-02, 1.30839582e-02, 1.30646743e-02,\n",
       "       1.30445822e-02, 1.30236858e-02, 1.30019891e-02, 1.29794961e-02,\n",
       "       1.29562112e-02, 1.29321387e-02, 1.29072832e-02, 1.28816493e-02,\n",
       "       1.28552420e-02, 1.28280661e-02, 1.28001268e-02, 1.27714293e-02,\n",
       "       1.27419790e-02, 1.27117814e-02, 1.26808421e-02, 1.26491669e-02,\n",
       "       1.26167618e-02, 1.25836327e-02, 1.25497857e-02, 1.25152272e-02,\n",
       "       1.24799635e-02, 1.24440011e-02, 1.24073467e-02, 1.23700069e-02,\n",
       "       1.23319887e-02, 1.22932989e-02, 1.22539447e-02, 1.22139332e-02,\n",
       "       1.21732716e-02, 1.21319674e-02, 1.20900280e-02, 1.20474610e-02,\n",
       "       1.20042740e-02, 1.19604748e-02, 1.19160712e-02, 1.18710712e-02,\n",
       "       1.18254827e-02, 1.17793139e-02, 1.17325730e-02, 1.16852681e-02,\n",
       "       1.16374077e-02, 1.15890000e-02, 1.15400537e-02, 1.14905772e-02,\n",
       "       1.14405791e-02, 1.13900682e-02, 1.13390531e-02, 1.12875426e-02,\n",
       "       1.12355455e-02, 1.11830708e-02, 1.11301274e-02, 1.10767243e-02,\n",
       "       1.10228706e-02, 1.09685752e-02, 1.09138474e-02, 1.08586963e-02,\n",
       "       1.08031311e-02, 1.07471609e-02, 1.06907952e-02, 1.06340431e-02,\n",
       "       1.05769140e-02, 1.05194172e-02, 1.04615620e-02, 1.04033579e-02,\n",
       "       1.03448142e-02, 1.02859402e-02, 1.02267455e-02, 1.01672395e-02,\n",
       "       1.01074315e-02, 1.00473309e-02, 9.98694729e-03, 9.92628998e-03,\n",
       "       9.86536842e-03, 9.80419201e-03, 9.74277016e-03, 9.68111225e-03,\n",
       "       9.61922767e-03, 9.55712577e-03, 9.49481589e-03, 9.43230737e-03,\n",
       "       9.36960949e-03, 9.30673152e-03, 9.24368273e-03, 9.18047231e-03,\n",
       "       9.11710946e-03, 9.05360332e-03, 8.98996301e-03, 8.92619761e-03,\n",
       "       8.86231615e-03, 8.79832763e-03, 8.73424100e-03, 8.67006515e-03,\n",
       "       8.60580896e-03, 8.54148121e-03, 8.47709068e-03, 8.41264605e-03,\n",
       "       8.34815597e-03, 8.28362903e-03, 8.21907376e-03, 8.15449863e-03,\n",
       "       8.08991204e-03, 8.02532233e-03, 7.96073778e-03, 7.89616660e-03,\n",
       "       7.83161693e-03, 7.76709683e-03, 7.70261430e-03, 7.63817727e-03,\n",
       "       7.57379359e-03, 7.50947102e-03, 7.44521727e-03, 7.38103995e-03,\n",
       "       7.31694659e-03, 7.25294466e-03, 7.18904152e-03, 7.12524447e-03,\n",
       "       7.06156071e-03, 6.99799735e-03, 6.93456143e-03, 6.87125990e-03,\n",
       "       6.80809960e-03, 6.74508730e-03, 6.68222968e-03, 6.61953332e-03,\n",
       "       6.55700471e-03, 6.49465025e-03, 6.43247624e-03, 6.37048888e-03,\n",
       "       6.30869429e-03, 6.24709849e-03, 6.18570740e-03, 6.12452685e-03,\n",
       "       6.06356254e-03, 6.00282012e-03, 5.94230512e-03, 5.88202295e-03,\n",
       "       5.82197896e-03, 5.76217837e-03, 5.70262631e-03, 5.64332782e-03,\n",
       "       5.58428781e-03, 5.52551113e-03, 5.46700249e-03, 5.40876652e-03,\n",
       "       5.35080775e-03, 5.29313060e-03, 5.23573939e-03, 5.17863834e-03,\n",
       "       5.12183157e-03, 5.06532310e-03, 5.00911684e-03, 4.95321662e-03,\n",
       "       4.89762614e-03, 4.84234901e-03, 4.78738875e-03, 4.73274878e-03,\n",
       "       4.67843240e-03, 4.62444283e-03, 4.57078317e-03, 4.51745645e-03,\n",
       "       4.46446558e-03, 4.41181337e-03, 4.35950255e-03, 4.30753573e-03,\n",
       "       4.25591544e-03, 4.20464412e-03, 4.15372408e-03, 4.10315756e-03,\n",
       "       4.05294672e-03, 4.00309359e-03, 3.95360014e-03, 3.90446822e-03,\n",
       "       3.85569960e-03, 3.80729596e-03, 3.75925888e-03, 3.71158987e-03,\n",
       "       3.66429034e-03, 3.61736159e-03, 3.57080486e-03, 3.52462130e-03,\n",
       "       3.47881197e-03, 3.43337784e-03, 3.38831979e-03, 3.34363863e-03,\n",
       "       3.29933509e-03, 3.25540981e-03, 3.21186334e-03, 3.16869617e-03,\n",
       "       3.12590870e-03, 3.08350124e-03, 3.04147406e-03, 2.99982731e-03,\n",
       "       2.95856110e-03, 2.91767544e-03, 2.87717028e-03, 2.83704551e-03,\n",
       "       2.79730092e-03, 2.75793625e-03, 2.71895117e-03, 2.68034527e-03,\n",
       "       2.64211809e-03, 2.60426910e-03, 2.56679769e-03, 2.52970321e-03,\n",
       "       2.49298493e-03, 2.45664207e-03, 2.42067377e-03, 2.38507915e-03,\n",
       "       2.34985722e-03, 2.31500697e-03, 2.28052733e-03, 2.24641717e-03,\n",
       "       2.21267529e-03, 2.17930047e-03, 2.14629142e-03, 2.11364679e-03,\n",
       "       2.08136521e-03, 2.04944522e-03, 2.01788536e-03, 1.98668409e-03,\n",
       "       1.95583983e-03, 1.92535097e-03, 1.89521585e-03, 1.86543277e-03,\n",
       "       1.83599998e-03, 1.80691571e-03, 1.77817813e-03, 1.74978538e-03,\n",
       "       1.72173557e-03, 1.69402678e-03, 1.66665703e-03, 1.63962434e-03,\n",
       "       1.61292667e-03, 1.58656197e-03, 1.56052814e-03, 1.53482308e-03,\n",
       "       1.50944462e-03, 1.48439061e-03, 1.45965884e-03, 1.43524709e-03,\n",
       "       1.41115312e-03, 1.38737464e-03, 1.36390937e-03, 1.34075500e-03,\n",
       "       1.31790918e-03, 1.29536958e-03, 1.27313382e-03, 1.25119950e-03,\n",
       "       1.22956423e-03, 1.20822559e-03, 1.18718114e-03, 1.16642843e-03,\n",
       "       1.14596499e-03, 1.12578837e-03, 1.10589606e-03, 1.08628559e-03,\n",
       "       1.06695443e-03, 1.04790009e-03, 1.02912003e-03, 1.01061172e-03,\n",
       "       9.92372645e-04, 9.74400248e-04, 9.56691989e-04, 9.39245316e-04,\n",
       "       9.22057677e-04, 9.05126516e-04, 8.88449275e-04, 8.72023393e-04,\n",
       "       8.55846313e-04, 8.39915472e-04, 8.24228313e-04, 8.08782276e-04,\n",
       "       7.93574805e-04, 7.78603348e-04, 7.63865353e-04, 7.49358273e-04,\n",
       "       7.35079566e-04, 7.21026694e-04, 7.07197126e-04, 6.93588333e-04,\n",
       "       6.80197797e-04, 6.67023005e-04, 6.54061451e-04, 6.41310638e-04,\n",
       "       6.28768076e-04, 6.16431286e-04, 6.04297798e-04, 5.92365150e-04,\n",
       "       5.80630891e-04, 5.69092582e-04, 5.57747795e-04, 5.46594110e-04,\n",
       "       5.35629125e-04, 5.24850444e-04, 5.14255687e-04, 5.03842487e-04,\n",
       "       4.93608490e-04, 4.83551354e-04, 4.73668754e-04, 4.63958375e-04,\n",
       "       4.54417921e-04, 4.45045108e-04, 4.35837667e-04, 4.26793348e-04,\n",
       "       4.17909911e-04, 4.09185137e-04, 4.00616819e-04, 3.92202770e-04,\n",
       "       3.83940816e-04, 3.75828803e-04, 3.67864591e-04, 3.60046060e-04,\n",
       "       3.52371104e-04, 3.44837639e-04, 3.37443593e-04, 3.30186916e-04,\n",
       "       3.23065575e-04, 3.16077554e-04, 3.09220856e-04, 3.02493502e-04,\n",
       "       2.95893531e-04, 2.89419002e-04, 2.83067990e-04, 2.76838592e-04,\n",
       "       2.70728920e-04, 2.64737107e-04, 2.58861305e-04, 2.53099685e-04,\n",
       "       2.47450435e-04, 2.41911764e-04, 2.36481899e-04, 2.31159086e-04,\n",
       "       2.25941592e-04, 2.20827700e-04, 2.15815713e-04, 2.10903956e-04,\n",
       "       2.06090768e-04, 2.01374512e-04, 1.96753566e-04, 1.92226330e-04,\n",
       "       1.87791220e-04, 1.83446675e-04, 1.79191149e-04, 1.75023117e-04,\n",
       "       1.70941071e-04, 1.66943525e-04, 1.63029009e-04, 1.59196071e-04,\n",
       "       1.55443280e-04, 1.51769222e-04, 1.48172501e-04, 1.44651742e-04,\n",
       "       1.41205584e-04, 1.37832688e-04, 1.34531731e-04, 1.31301408e-04,\n",
       "       1.28140432e-04, 1.25047535e-04, 1.22021466e-04, 1.19060990e-04,\n",
       "       1.16164891e-04, 1.13331970e-04, 1.10561046e-04, 1.07850953e-04,\n",
       "       1.05200544e-04, 1.02608688e-04, 1.00074270e-04, 9.75961929e-05,\n",
       "       9.51733755e-05, 9.28047528e-05, 9.04892760e-05, 8.82259124e-05,\n",
       "       8.60136450e-05, 8.38514729e-05, 8.17384106e-05, 7.96734882e-05,\n",
       "       7.76557509e-05, 7.56842593e-05, 7.37580889e-05, 7.18763304e-05,\n",
       "       7.00380887e-05, 6.82424838e-05, 6.64886499e-05, 6.47757355e-05,\n",
       "       6.31029032e-05, 6.14693298e-05, 5.98742056e-05, 5.83167350e-05,\n",
       "       5.67961355e-05, 5.53116382e-05, 5.38624875e-05, 5.24479407e-05,\n",
       "       5.10672680e-05, 4.97197524e-05, 4.84046897e-05, 4.71213878e-05,\n",
       "       4.58691671e-05, 4.46473601e-05, 4.34553113e-05, 4.22923771e-05,\n",
       "       4.11579253e-05, 4.00513357e-05, 3.89719990e-05, 3.79193174e-05,\n",
       "       3.68927040e-05, 3.58915831e-05, 3.49153895e-05, 3.39635687e-05,\n",
       "       3.30355767e-05, 3.21308798e-05, 3.12489545e-05, 3.03892873e-05,\n",
       "       2.95513747e-05, 2.87347228e-05, 2.79388473e-05, 2.71632734e-05,\n",
       "       2.64075357e-05, 2.56711779e-05, 2.49537527e-05, 2.42548217e-05,\n",
       "       2.35739553e-05, 2.29107325e-05, 2.22647407e-05, 2.16355759e-05,\n",
       "       2.10228420e-05, 2.04261513e-05, 1.98451237e-05, 1.92793872e-05,\n",
       "       1.87285774e-05, 1.81923375e-05, 1.76703181e-05, 1.71621772e-05,\n",
       "       1.66675799e-05, 1.61861983e-05, 1.57177117e-05, 1.52618060e-05,\n",
       "       1.48181740e-05, 1.43865149e-05, 1.39665346e-05, 1.35579451e-05,\n",
       "       1.31604648e-05, 1.27738184e-05, 1.23977363e-05, 1.20319551e-05,\n",
       "       1.16762170e-05, 1.13302701e-05, 1.09938680e-05, 1.06667699e-05,\n",
       "       1.03487401e-05, 1.00395485e-05, 9.73897021e-06, 9.44678519e-06,\n",
       "       9.16277860e-06, 8.88674042e-06, 8.61846547e-06, 8.35775329e-06,\n",
       "       8.10440801e-06, 7.85823835e-06, 7.61905742e-06, 7.38668272e-06,\n",
       "       7.16093602e-06, 6.94164327e-06, 6.72863451e-06, 6.52174382e-06,\n",
       "       6.32080921e-06, 6.12567255e-06, 5.93617947e-06, 5.75217933e-06,\n",
       "       5.57352510e-06, 5.40007330e-06, 5.23168393e-06, 5.06822038e-06,\n",
       "       4.90954938e-06, 4.75554093e-06, 4.60606821e-06, 4.46100753e-06])"
      ]
     },
     "execution_count": 11,
     "metadata": {},
     "output_type": "execute_result"
    }
   ],
   "source": [
    "pdf_pop"
   ]
  },
  {
   "cell_type": "markdown",
   "metadata": {},
   "source": [
    "<details>\n",
    "    <summary>Answer</summary>\n",
    "<code>z_stat = (75 - 60) / (30 / np.sqrt(36))\n",
    "stats.norm.cdf(z_stat)</code>\n",
    "    </details>"
   ]
  },
  {
   "cell_type": "markdown",
   "metadata": {
    "slideshow": {
     "slide_type": "notes"
    }
   },
   "source": [
    "Reject?:"
   ]
  },
  {
   "cell_type": "markdown",
   "metadata": {},
   "source": [
    "<details>\n",
    "    <summary>Answer</summary>\n",
    "    Yes, reject the null hypothesis! The p-value is less than our threshold of 5%.\n",
    "    </details>"
   ]
  },
  {
   "cell_type": "markdown",
   "metadata": {
    "slideshow": {
     "slide_type": "slide"
    }
   },
   "source": [
    "2. Consider the gain in weight (in grams) of 19 female rats between 28 and 84 days after birth. \n",
    "\n",
    "Twelve rats were fed on a high-protein diet and seven rats were fed on a low-protein diet.\n",
    "\n",
    "``` python\n",
    "high_protein = [134, 146, 104, 119, 124, 161, 107, 83, 113, 129, 97, 123]\n",
    "low_protein = [70, 118, 101, 85, 107, 132, 94]\n",
    "```\n",
    "\n",
    "Is there any difference in the weight gain of rats fed on high protein diet vs low protein diet? It's OK to assume equal sample variances. "
   ]
  },
  {
   "cell_type": "markdown",
   "metadata": {
    "slideshow": {
     "slide_type": "notes"
    }
   },
   "source": [
    "Null and alternative hypotheses? "
   ]
  },
  {
   "cell_type": "markdown",
   "metadata": {
    "slideshow": {
     "slide_type": "notes"
    }
   },
   "source": [
    "> null: \n",
    "\n",
    "> alternative: "
   ]
  },
  {
   "cell_type": "markdown",
   "metadata": {},
   "source": [
    "<details>\n",
    "    <summary>Answer</summary>\n",
    "    Null: The rats with the high-protein diet and the rats with the low-protein diet had the same weight gain. <br/>\n",
    "    Alternative: The rats with the high-protein diet and the rats with the low-protein diet did not have the same weight gain.\n",
    "    </details>"
   ]
  },
  {
   "cell_type": "markdown",
   "metadata": {
    "slideshow": {
     "slide_type": "notes"
    }
   },
   "source": [
    "What kind of test should we perform and why? "
   ]
  },
  {
   "cell_type": "markdown",
   "metadata": {
    "slideshow": {
     "slide_type": "notes"
    }
   },
   "source": [
    "> Test:"
   ]
  },
  {
   "cell_type": "markdown",
   "metadata": {
    "slideshow": {
     "slide_type": "notes"
    }
   },
   "source": [
    "<details>\n",
    "    <summary>Answer</summary>\n",
    "    Two-sample two-tailed t-test, since we have small sample sizes. See the Level-Up section below!\n",
    "    </details>"
   ]
  },
  {
   "cell_type": "markdown",
   "metadata": {},
   "source": [
    "Perform the test. Do we reject the null hypothesis?"
   ]
  },
  {
   "cell_type": "code",
   "execution_count": null,
   "metadata": {},
   "outputs": [],
   "source": []
  },
  {
   "cell_type": "markdown",
   "metadata": {},
   "source": [
    "<details>\n",
    "    <summary>Answer</summary>\n",
    "<code>high_protein = [134, 146, 104, 119, 124, 161, 107, 83, 113, 129, 97, 123]\n",
    "low_protein = [70, 118, 101, 85, 107, 132, 94]\n",
    "stats.ttest_ind(a=high_protein, b=low_protein)</code>\n",
    "\n",
    "We fail to reject the null hypothesis at a significance level of $\\alpha = 0.05$.\n",
    "    </details>"
   ]
  },
  {
   "cell_type": "markdown",
   "metadata": {
    "slideshow": {
     "slide_type": "slide"
    }
   },
   "source": [
    "**What if we wanted to test if the rats who ate a high-protein diet gained *more* weight than those who ate a low-protein diet?**"
   ]
  },
  {
   "cell_type": "markdown",
   "metadata": {
    "slideshow": {
     "slide_type": "notes"
    }
   },
   "source": [
    "Null:\n",
    "\n",
    "alternative:"
   ]
  },
  {
   "cell_type": "markdown",
   "metadata": {},
   "source": [
    "<details>\n",
    "    <summary>Answer</summary>\n",
    "    Null: The rats with the high-protein diet did not gain more weight than the rats with the low-protein diet. <br/>\n",
    "    Alternative: The rats with the high-protein diet gained more weight than the rats with the low-protein diet."
   ]
  },
  {
   "cell_type": "markdown",
   "metadata": {
    "slideshow": {
     "slide_type": "notes"
    }
   },
   "source": [
    "Kind of test? "
   ]
  },
  {
   "cell_type": "markdown",
   "metadata": {},
   "source": [
    "<details>\n",
    "    <summary>Answer</summary>\n",
    "    Now we need a two-sample ONE-tailed test.\n",
    "    </details>"
   ]
  },
  {
   "cell_type": "markdown",
   "metadata": {
    "slideshow": {
     "slide_type": "notes"
    }
   },
   "source": [
    "Critical test statistic value? "
   ]
  },
  {
   "cell_type": "code",
   "execution_count": null,
   "metadata": {
    "slideshow": {
     "slide_type": "notes"
    }
   },
   "outputs": [],
   "source": []
  },
  {
   "cell_type": "markdown",
   "metadata": {},
   "source": [
    "<details>\n",
    "    <summary>Answer</summary>\n",
    "    <code>h_bar = np.mean(high_protein)\n",
    "l_bar = np.mean(low_protein)\n",
    "h_df = len(high_protein) - 1\n",
    "l_df = len(low_protein) - 1\n",
    "pooled_var = (h_df*np.var(high_protein) + l_df*np.var(low_protein)) / (h_df + l_df)\n",
    "t_stat = (h_bar - l_bar) / np.sqrt(pooled_var * (1/len(high_protein) + 1/len(low_protein)))\n",
    "t_stat</code>\n",
    "    </details>"
   ]
  },
  {
   "cell_type": "markdown",
   "metadata": {
    "slideshow": {
     "slide_type": "notes"
    }
   },
   "source": [
    "Can we reject?"
   ]
  },
  {
   "cell_type": "code",
   "execution_count": null,
   "metadata": {},
   "outputs": [],
   "source": []
  },
  {
   "cell_type": "markdown",
   "metadata": {},
   "source": [
    "<details>\n",
    "    <summary>Answer</summary>\n",
    "    <code>stats.t(df=h_df+l_df).cdf(t_stat)</code>\n",
    "    \n",
    "    Yes, we can reject the null hypothesis!\n",
    "    </details>"
   ]
  },
  {
   "cell_type": "markdown",
   "metadata": {},
   "source": [
    "# Level Up:  Two-sample $t$-tests"
   ]
  },
  {
   "cell_type": "markdown",
   "metadata": {},
   "source": [
    "Sometimes, we are interested in determining whether two population means are equal. In this case, we use two-sample $t$-tests.\n",
    "\n",
    "There are two types of two-sample t-tests: **paired** and **independent** (unpaired) tests. \n",
    "\n",
    "What's the difference?  \n",
    "\n",
    "**Paired tests**: How is a sample affected by a certain treatment? The individuals in the sample remain the same and you compare how they change after treatment. \n",
    "\n",
    "**Independent tests**: When we compare two different, unrelated samples to each other, we use an independent (or unpaired) two-sample t-test."
   ]
  },
  {
   "cell_type": "markdown",
   "metadata": {},
   "source": [
    "The test statistic for an unpaired two-sample t-test is slightly different than the test statistic for the one-sample $t$-test. \n",
    "\n",
    "Assuming equal variances, the test statistic for a two-sample $t$-test is given by: \n",
    "\n",
    "$$ t = \\frac{\\bar{x_1} - \\bar{x_2}}{\\sqrt{s^2 \\left( \\frac{1}{n_1} + \\frac{1}{n_2} \\right)}}$$\n",
    "\n",
    "where $s^2$ is the pooled sample variance, \n",
    "\n",
    "$$ s^2 = \\frac{\\sum_{i=1}^{n_1} \\left(x_i - \\bar{x_1}\\right)^2 + \\sum_{j=1}^{n_2} \\left(x_j - \\bar{x_2}\\right)^2 }{n_1 + n_2 - 2} $$\n",
    "\n",
    "Here, $n_1$ is the sample size of sample 1 and $n_2$ is the sample size of sample 2. \n",
    "\n",
    "An independent two-sample $t$-test for samples of size $n_1$ and $n_2$ has $(n_1 + n_2 - 2)$ degrees of freedom. "
   ]
  },
  {
   "cell_type": "markdown",
   "metadata": {},
   "source": [
    "Now let's say we want to compare our Gabonese elephants to a sample of elephants from Kenya. "
   ]
  },
  {
   "cell_type": "code",
   "execution_count": 11,
   "metadata": {
    "ExecuteTime": {
     "end_time": "2023-08-31T23:45:36.713340Z",
     "start_time": "2023-08-31T23:45:36.698342Z"
    }
   },
   "outputs": [
    {
     "name": "stdout",
     "output_type": "stream",
     "text": [
      "259.79701691897856\n",
      "288.65481114992696\n"
     ]
    }
   ],
   "source": [
    "ken = [8762, 8880, 8743, 8901,\n",
    "        8252, 8966, 8369, 9001,\n",
    "         8857, 8147, 8927, 9005,\n",
    "         9083, 8477, 8760, 8915,\n",
    "         8927, 8829, 8579, 9002]\n",
    "\n",
    "\n",
    "print(np.std(ken))\n",
    "print(np.std(gab))"
   ]
  },
  {
   "cell_type": "code",
   "execution_count": 12,
   "metadata": {
    "ExecuteTime": {
     "end_time": "2023-08-31T23:45:36.729340Z",
     "start_time": "2023-08-31T23:45:36.714341Z"
    }
   },
   "outputs": [
    {
     "data": {
      "text/plain": [
       "-2.324518788074487"
      ]
     },
     "execution_count": 12,
     "metadata": {},
     "output_type": "execute_result"
    }
   ],
   "source": [
    "# so\n",
    "\n",
    "x_1 = np.mean(gab)\n",
    "x_2 = np.mean(ken)\n",
    "s_1_2 = np.var(gab, ddof = 1)\n",
    "s_2_2 = np.var(ken, ddof = 1)\n",
    "n_1 = len(gab)\n",
    "n_2 = len(ken)\n",
    "s_p_2 = ((n_1 - 1)*s_1_2 + (n_2 - 1 )* s_2_2)/(n_1 + n_2 -2)\n",
    "\n",
    "t = (x_1 - x_2)/np.sqrt(s_p_2*(1/n_1 + 1/n_2))\n",
    "t"
   ]
  },
  {
   "cell_type": "code",
   "execution_count": 13,
   "metadata": {
    "ExecuteTime": {
     "end_time": "2023-08-31T23:45:36.745341Z",
     "start_time": "2023-08-31T23:45:36.730340Z"
    }
   },
   "outputs": [
    {
     "data": {
      "text/plain": [
       "79376.88947368422"
      ]
     },
     "execution_count": 13,
     "metadata": {},
     "output_type": "execute_result"
    }
   ],
   "source": [
    "s_p_2 = ((n_1 - 1)*s_1_2 + (n_2 - 1 )* s_2_2)/(n_1 + n_2 -2)\n",
    "s_p_2"
   ]
  },
  {
   "cell_type": "code",
   "execution_count": 14,
   "metadata": {
    "ExecuteTime": {
     "end_time": "2023-08-31T23:45:36.761340Z",
     "start_time": "2023-08-31T23:45:36.747341Z"
    }
   },
   "outputs": [
    {
     "name": "stdout",
     "output_type": "stream",
     "text": [
      "87706.94736842105 71046.83157894739\n"
     ]
    }
   ],
   "source": [
    "print(s_1_2, s_2_2 )"
   ]
  },
  {
   "cell_type": "code",
   "execution_count": 15,
   "metadata": {
    "ExecuteTime": {
     "end_time": "2023-08-31T23:45:36.777339Z",
     "start_time": "2023-08-31T23:45:36.762341Z"
    }
   },
   "outputs": [
    {
     "data": {
      "text/plain": [
       "Ttest_indResult(statistic=-2.324518788074487, pvalue=0.0256026336210871)"
      ]
     },
     "execution_count": 15,
     "metadata": {},
     "output_type": "execute_result"
    }
   ],
   "source": [
    "stats.ttest_ind(gab, ken, equal_var=False)"
   ]
  }
 ],
 "metadata": {
  "kernelspec": {
   "display_name": "Python 3",
   "language": "python",
   "name": "python3"
  },
  "language_info": {
   "codemirror_mode": {
    "name": "ipython",
    "version": 3
   },
   "file_extension": ".py",
   "mimetype": "text/x-python",
   "name": "python",
   "nbconvert_exporter": "python",
   "pygments_lexer": "ipython3",
   "version": "3.8.5"
  },
  "toc": {
   "base_numbering": 1,
   "nav_menu": {},
   "number_sections": true,
   "sideBar": true,
   "skip_h1_title": false,
   "title_cell": "Table of Contents",
   "title_sidebar": "TOC",
   "toc_cell": true,
   "toc_position": {
    "height": "calc(100% - 180px)",
    "left": "10px",
    "top": "150px",
    "width": "288px"
   },
   "toc_section_display": true,
   "toc_window_display": true
  },
  "varInspector": {
   "cols": {
    "lenName": 16,
    "lenType": 16,
    "lenVar": 40
   },
   "kernels_config": {
    "python": {
     "delete_cmd_postfix": "",
     "delete_cmd_prefix": "del ",
     "library": "var_list.py",
     "varRefreshCmd": "print(var_dic_list())"
    },
    "r": {
     "delete_cmd_postfix": ") ",
     "delete_cmd_prefix": "rm(",
     "library": "var_list.r",
     "varRefreshCmd": "cat(var_dic_list()) "
    }
   },
   "types_to_exclude": [
    "module",
    "function",
    "builtin_function_or_method",
    "instance",
    "_Feature"
   ],
   "window_display": false
  }
 },
 "nbformat": 4,
 "nbformat_minor": 4
}
